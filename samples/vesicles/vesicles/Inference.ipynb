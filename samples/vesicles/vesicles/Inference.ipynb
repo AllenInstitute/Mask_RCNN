{
 "cells": [
  {
   "cell_type": "code",
   "execution_count": 1,
   "id": "powerful-polish",
   "metadata": {},
   "outputs": [
    {
     "data": {
      "text/plain": [
       "'/allen/programs/braintv/workgroups/neuralcoding/Parastoo/Mask_RCNN/samples/vesicles'"
      ]
     },
     "execution_count": 1,
     "metadata": {},
     "output_type": "execute_result"
    }
   ],
   "source": [
    "pwd"
   ]
  },
  {
   "cell_type": "code",
   "execution_count": 18,
   "id": "persistent-patch",
   "metadata": {
    "scrolled": true
   },
   "outputs": [
    {
     "name": "stdout",
     "output_type": "stream",
     "text": [
      "\n",
      "Configurations:\n",
      "BACKBONE                       resnet50\n",
      "BACKBONE_STRIDES               [4, 8, 16, 32, 64]\n",
      "BATCH_SIZE                     1\n",
      "BBOX_STD_DEV                   [0.1 0.1 0.2 0.2]\n",
      "COMPUTE_BACKBONE_SHAPE         None\n",
      "DETECTION_MAX_INSTANCES        1000\n",
      "DETECTION_MIN_CONFIDENCE       0\n",
      "DETECTION_NMS_THRESHOLD        0.3\n",
      "FPN_CLASSIF_FC_LAYERS_SIZE     1024\n",
      "GPU_COUNT                      1\n",
      "GRADIENT_CLIP_NORM             5.0\n",
      "IMAGES_PER_GPU                 1\n",
      "IMAGE_CHANNEL_COUNT            3\n",
      "IMAGE_MAX_DIM                  512\n",
      "IMAGE_META_SIZE                15\n",
      "IMAGE_MIN_DIM                  512\n",
      "IMAGE_MIN_SCALE                2.0\n",
      "IMAGE_RESIZE_MODE              pad64\n",
      "IMAGE_SHAPE                    [512 512   3]\n",
      "LEARNING_MOMENTUM              0.9\n",
      "LEARNING_RATE                  0.001\n",
      "LOSS_WEIGHTS                   {'rpn_class_loss': 1.0, 'rpn_bbox_loss': 1.0, 'mrcnn_class_loss': 1.0, 'mrcnn_bbox_loss': 1.0, 'mrcnn_mask_loss': 1.0}\n",
      "MASK_POOL_SIZE                 14\n",
      "MASK_SHAPE                     [28, 28]\n",
      "MAX_GT_INSTANCES               500\n",
      "MEAN_PIXEL                     [43.53 39.56 48.22]\n",
      "MINI_MASK_SHAPE                (56, 56)\n",
      "NAME                           vesicle\n",
      "NUM_CLASSES                    3\n",
      "POOL_SIZE                      7\n",
      "POST_NMS_ROIS_INFERENCE        2000\n",
      "POST_NMS_ROIS_TRAINING         1000\n",
      "PRE_NMS_LIMIT                  6000\n",
      "ROI_POSITIVE_RATIO             0.33\n",
      "RPN_ANCHOR_RATIOS              [0.5, 1, 2]\n",
      "RPN_ANCHOR_SCALES              (8, 16, 32, 64, 128)\n",
      "RPN_ANCHOR_STRIDE              1\n",
      "RPN_BBOX_STD_DEV               [0.1 0.1 0.2 0.2]\n",
      "RPN_NMS_THRESHOLD              0.8\n",
      "RPN_TRAIN_ANCHORS_PER_IMAGE    64\n",
      "STEPS_PER_EPOCH                150\n",
      "TOP_DOWN_PYRAMID_SIZE          256\n",
      "TRAIN_BN                       False\n",
      "TRAIN_ROIS_PER_IMAGE           128\n",
      "USE_MINI_MASK                  True\n",
      "USE_RPN_ROIS                   True\n",
      "VALIDATION_STEPS               30\n",
      "WEIGHT_DECAY                   0.0001\n",
      "\n",
      "\n",
      "Images: 5\n",
      "Classes: ['BG', 'vesicles', 'mitochondria']\n",
      "Loading weights  /allen/programs/braintv/workgroups/neuralcoding/Parastoo/Mask_RCNN/samples/vesicles/logs/vesicle20210215T1012/mask_rcnn_vesicle_0175.h5\n",
      "Re-starting from epoch 175\n",
      "************  Model is loaded  **************\n",
      "CPU times: user 5.94 s, sys: 264 ms, total: 6.2 s\n",
      "Wall time: 6.08 s\n"
     ]
    }
   ],
   "source": [
    "%%time\n",
    "import os\n",
    "import sys\n",
    "import random\n",
    "import math\n",
    "import re\n",
    "import time\n",
    "import numpy as np\n",
    "import tensorflow as tf\n",
    "import matplotlib\n",
    "import matplotlib.pyplot as plt\n",
    "import matplotlib.patches as patches\n",
    "from skimage.measure import regionprops\n",
    "# Root directory of the project\n",
    "ROOT_DIR = os.path.abspath(\"../../\")\n",
    "\n",
    "# Import Mask RCNN\n",
    "sys.path.append(ROOT_DIR)  # To find local version of the library\n",
    "from mrcnn import utils\n",
    "from mrcnn import visualize\n",
    "from mrcnn.visualize import display_images\n",
    "import mrcnn.model as modellib\n",
    "from mrcnn.model import log\n",
    "import datetime\n",
    "import vesicle\n",
    "\n",
    "%matplotlib inline \n",
    "\n",
    "# Directory to save logs and trained model\n",
    "LOGS_DIR = os.path.join(ROOT_DIR, \"logs\")\n",
    "\n",
    "import pandas as pd\n",
    "from PIL import Image\n",
    "#########################################################################################################\n",
    "\n",
    "# Configuration\n",
    "\n",
    "# Dataset directory\n",
    "# DATASET_DIR = '/allen/programs/braintv/workgroups/neuralcoding/Parastoo/EM_Data'\n",
    "DATASET_DIR = '/allen/programs/braintv/workgroups/neuralcoding/Parastoo'\n",
    "# DATASET_DIR = '/allen/programs/braintv/workgroups/neuralcoding/Parastoo/EM_Data'\n",
    "\n",
    "# DATASET_DIR = '/src/'\n",
    "# Inference Configuration\n",
    "config = vesicle.NucleusInferenceConfig()\n",
    "config.display()\n",
    "\n",
    "\n",
    "#########################################################################################################\n",
    "# Notebook preference\n",
    "\n",
    "# Device to load the neural network on.\n",
    "# Useful if you're training a model on the same \n",
    "# machine, in which case use CPU and leave the\n",
    "# GPU for training.\n",
    "DEVICE = \"/gpu:0\"  # /cpu:0 or /gpu:0\n",
    "\n",
    "# Inspect the model in training or inference modes\n",
    "# values: 'inference' or 'training'\n",
    "# Only inference mode is supported right now\n",
    "TEST_MODE = \"inference\"\n",
    "\n",
    "\n",
    "\n",
    "def get_ax(rows=1, cols=1, size=16):\n",
    "    \"\"\"Return a Matplotlib Axes array to be used in\n",
    "    all visualizations in the notebook. Provide a\n",
    "    central point to control graph sizes.\n",
    "    \n",
    "    Adjust the size attribute to control how big to render images\n",
    "    \"\"\"\n",
    "    fig, ax = plt.subplots(rows, cols, figsize=(size*cols, size*rows))\n",
    "    fig.tight_layout()\n",
    "    return ax\n",
    "\n",
    "#########################################################################################################\n",
    "# Load test dataset\n",
    "\n",
    "dataset = vesicle.NucleusDataset()\n",
    "# dataset.load_nucleus(DATASET_DIR, 'valid')\n",
    "dataset.load_nucleus(DATASET_DIR, 'TestPilot2')\n",
    "dataset.prepare()\n",
    "\n",
    "print(\"Images: {}\\nClasses: {}\".format(len(dataset.image_ids), dataset.class_names))\n",
    "\n",
    "#########################################################################################################\n",
    "# Load model\n",
    "\n",
    "# Create model in inference mode\n",
    "with tf.device(DEVICE):\n",
    "    model = modellib.MaskRCNN(mode=\"inference\",\n",
    "                              model_dir=LOGS_DIR,\n",
    "                              config=config)\n",
    "    \n",
    "\n",
    "weights_path ='/allen/programs/braintv/workgroups/neuralcoding/Parastoo/Mask_RCNN/samples/vesicles/logs/vesicle20210215T1012/mask_rcnn_vesicle_0175.h5'\n",
    "# Load weights\n",
    "print(\"Loading weights \", weights_path)\n",
    "model.load_weights(weights_path, by_name=True)\n",
    "print('************  Model is loaded  **************')"
   ]
  },
  {
   "cell_type": "code",
   "execution_count": 19,
   "id": "forced-soccer",
   "metadata": {},
   "outputs": [
    {
     "data": {
      "text/plain": [
       "['250_001', '250_002', '250_003', '250_004', '250_005']"
      ]
     },
     "execution_count": 19,
     "metadata": {},
     "output_type": "execute_result"
    }
   ],
   "source": [
    "[dataset.image_info[i]['id'] for i in range(len(dataset.image_ids))]"
   ]
  },
  {
   "cell_type": "code",
   "execution_count": 20,
   "id": "furnished-resident",
   "metadata": {},
   "outputs": [],
   "source": [
    "ves_nglui = pd.DataFrame(columns = ['img_id', 'area_vox', 'ctr_pts', 'p_score'])\n",
    "\n",
    "# df_path = '/allen/programs/braintv/workgroups/neuralcoding/Parastoo/Pilot_Logs/meta_data_202102280011.csv'\n",
    "# ves_nglui = pd.read_csv(df_path, index_col=0)"
   ]
  },
  {
   "cell_type": "code",
   "execution_count": 21,
   "id": "adolescent-appointment",
   "metadata": {},
   "outputs": [
    {
     "data": {
      "text/html": [
       "<div>\n",
       "<style scoped>\n",
       "    .dataframe tbody tr th:only-of-type {\n",
       "        vertical-align: middle;\n",
       "    }\n",
       "\n",
       "    .dataframe tbody tr th {\n",
       "        vertical-align: top;\n",
       "    }\n",
       "\n",
       "    .dataframe thead th {\n",
       "        text-align: right;\n",
       "    }\n",
       "</style>\n",
       "<table border=\"1\" class=\"dataframe\">\n",
       "  <thead>\n",
       "    <tr style=\"text-align: right;\">\n",
       "      <th></th>\n",
       "      <th>img_id</th>\n",
       "      <th>area_vox</th>\n",
       "      <th>ctr_pts</th>\n",
       "      <th>p_score</th>\n",
       "    </tr>\n",
       "  </thead>\n",
       "  <tbody>\n",
       "  </tbody>\n",
       "</table>\n",
       "</div>"
      ],
      "text/plain": [
       "Empty DataFrame\n",
       "Columns: [img_id, area_vox, ctr_pts, p_score]\n",
       "Index: []"
      ]
     },
     "execution_count": 21,
     "metadata": {},
     "output_type": "execute_result"
    }
   ],
   "source": [
    "ves_nglui"
   ]
  },
  {
   "cell_type": "code",
   "execution_count": 22,
   "id": "infrared-express",
   "metadata": {},
   "outputs": [],
   "source": [
    "dir_path = '/allen/programs/braintv/workgroups/neuralcoding/Parastoo/TestPilot2/'\n",
    "ves_path = '/allen/programs/braintv/workgroups/neuralcoding/Parastoo/TestPilot2/meta_data_{}.csv'.format(datetime.datetime.now().strftime(\"%Y%m%d%H%M\"))\n",
    "# error_path = '/allen/programs/braintv/workgroups/neuralcoding/Parastoo/PilotData/error_log_{}.csv'.format(datetime.datetime.now().strftime(\"%Y%m%d%H%M\"))"
   ]
  },
  {
   "cell_type": "code",
   "execution_count": 23,
   "id": "fitting-iceland",
   "metadata": {},
   "outputs": [],
   "source": [
    "# ves_path = '/allen/programs/braintv/workgroups/neuralcoding/Parastoo/Pilot_Logs/meta_data_202102230044.csv'"
   ]
  },
  {
   "cell_type": "code",
   "execution_count": 24,
   "id": "sensitive-proxy",
   "metadata": {
    "scrolled": true
   },
   "outputs": [
    {
     "name": "stdout",
     "output_type": "stream",
     "text": [
      "0\n",
      "250_001\n",
      "1\n",
      "250_002\n",
      "2\n",
      "250_003\n",
      "3\n",
      "250_004\n",
      "4\n",
      "250_005\n"
     ]
    }
   ],
   "source": [
    "def gen_ctr_pts(pred_masks):\n",
    "    \n",
    "    ctr_pts = []\n",
    "    for i in range(pred_masks.shape[2]):\n",
    "        region = regionprops(pred_masks[:, :, i])\n",
    "        try:\n",
    "            y, x = region[0].centroid\n",
    "            ctr_pt = [x, y, 0]\n",
    "            ctr_pts.append(ctr_pt)\n",
    "        except IndexError:\n",
    "            return;\n",
    "    return ctr_pts\n",
    "\n",
    "def make_results_df(results, img_id):\n",
    "    \n",
    "    # define the dataframe and attributes\n",
    "    df = pd.DataFrame(columns = ['img_id', 'area_vox', 'ctr_pts', 'p_score'])\n",
    "    pred_masks = results['masks']\n",
    "    scores = results['scores']\n",
    "    masks2 = np.reshape(pred_masks > .5, (-1, pred_masks.shape[-1])).astype(np.float32)\n",
    "    area = np.sum(masks2, axis=0)\n",
    "    df.p_score = scores\n",
    "    df.area_vox = area\n",
    "    df.ctr_pts = gen_ctr_pts(pred_masks.astype(int))\n",
    "    df.img_id = img_id\n",
    "    \n",
    "    return df\n",
    "\n",
    "    \n",
    "\n",
    "def save_masks(pred_masks, img_id, dir_path = dir_path, file_exists=True):\n",
    "    \n",
    "    \n",
    "    if file_exists==False:\n",
    "        os.mkdir(dir_path + img_id + '/' + 'masks')\n",
    "        pred_path = dir_path + img_id + '/' + 'masks'\n",
    "    else:\n",
    "        pred_path = dir_path + img_id + '/' + 'masks'\n",
    "        \n",
    "    for i in range(pred_masks.shape[2]):\n",
    "        mask = pred_masks[:, :, i]\n",
    "        pil_mask = Image.fromarray(mask)\n",
    "        pil_mask.save('{}/{}_{}.png'.format(pred_path,img_id,i))\n",
    "        \n",
    "\n",
    "for image_id in dataset.image_ids:\n",
    "    print(image_id)\n",
    "    img_id = dataset.image_info[image_id]['id']\n",
    "    print(img_id)\n",
    "    if img_id not in np.unique(ves_nglui.img_id):\n",
    "        image = dataset.load_image(image_id)\n",
    "\n",
    "        # Detect objects\n",
    "        r = model.detect([image], verbose=0)[0]\n",
    "\n",
    "        try:\n",
    "            try:\n",
    "                df = make_results_df(r, img_id)\n",
    "\n",
    "            except FileNotFoundError:\n",
    "                 df = make_results_df(r, img_id, file_exists=False)\n",
    "\n",
    "            ves_nglui = ves_nglui.append(df)\n",
    "            ves_nglui.to_csv(ves_path)\n",
    "            save_masks(r['masks'], img_id)\n",
    "\n",
    "\n",
    "        except ValueError:\n",
    "            pass\n"
   ]
  },
  {
   "cell_type": "code",
   "execution_count": null,
   "id": "certified-relaxation",
   "metadata": {},
   "outputs": [],
   "source": []
  },
  {
   "cell_type": "code",
   "execution_count": 59,
   "id": "sunset-recipient",
   "metadata": {},
   "outputs": [
    {
     "data": {
      "text/html": [
       "<div>\n",
       "<style scoped>\n",
       "    .dataframe tbody tr th:only-of-type {\n",
       "        vertical-align: middle;\n",
       "    }\n",
       "\n",
       "    .dataframe tbody tr th {\n",
       "        vertical-align: top;\n",
       "    }\n",
       "\n",
       "    .dataframe thead th {\n",
       "        text-align: right;\n",
       "    }\n",
       "</style>\n",
       "<table border=\"1\" class=\"dataframe\">\n",
       "  <thead>\n",
       "    <tr style=\"text-align: right;\">\n",
       "      <th></th>\n",
       "      <th>img_id</th>\n",
       "      <th>area_vox</th>\n",
       "      <th>ctr_pts</th>\n",
       "      <th>p_score</th>\n",
       "    </tr>\n",
       "  </thead>\n",
       "  <tbody>\n",
       "    <tr>\n",
       "      <th>0</th>\n",
       "      <td>250_001</td>\n",
       "      <td>158.0</td>\n",
       "      <td>[27.917721518987342, 98.25949367088607, 0]</td>\n",
       "      <td>0.999047</td>\n",
       "    </tr>\n",
       "    <tr>\n",
       "      <th>1</th>\n",
       "      <td>250_001</td>\n",
       "      <td>131.0</td>\n",
       "      <td>[271.7022900763359, 129.4351145038168, 0]</td>\n",
       "      <td>0.998346</td>\n",
       "    </tr>\n",
       "    <tr>\n",
       "      <th>2</th>\n",
       "      <td>250_001</td>\n",
       "      <td>181.0</td>\n",
       "      <td>[161.74585635359117, 130.27624309392266, 0]</td>\n",
       "      <td>0.997797</td>\n",
       "    </tr>\n",
       "    <tr>\n",
       "      <th>3</th>\n",
       "      <td>250_001</td>\n",
       "      <td>109.0</td>\n",
       "      <td>[28.844036697247706, 80.19266055045871, 0]</td>\n",
       "      <td>0.994334</td>\n",
       "    </tr>\n",
       "    <tr>\n",
       "      <th>4</th>\n",
       "      <td>250_001</td>\n",
       "      <td>145.0</td>\n",
       "      <td>[288.9448275862069, 120.99310344827586, 0]</td>\n",
       "      <td>0.989053</td>\n",
       "    </tr>\n",
       "    <tr>\n",
       "      <th>...</th>\n",
       "      <td>...</td>\n",
       "      <td>...</td>\n",
       "      <td>...</td>\n",
       "      <td>...</td>\n",
       "    </tr>\n",
       "    <tr>\n",
       "      <th>11</th>\n",
       "      <td>250_100</td>\n",
       "      <td>94.0</td>\n",
       "      <td>[62.5, 270.70212765957444, 0]</td>\n",
       "      <td>0.749756</td>\n",
       "    </tr>\n",
       "    <tr>\n",
       "      <th>12</th>\n",
       "      <td>250_100</td>\n",
       "      <td>81.0</td>\n",
       "      <td>[203.3827160493827, 111.95061728395062, 0]</td>\n",
       "      <td>0.712849</td>\n",
       "    </tr>\n",
       "    <tr>\n",
       "      <th>13</th>\n",
       "      <td>250_100</td>\n",
       "      <td>97.0</td>\n",
       "      <td>[187.0721649484536, 46.69072164948454, 0]</td>\n",
       "      <td>0.702013</td>\n",
       "    </tr>\n",
       "    <tr>\n",
       "      <th>14</th>\n",
       "      <td>250_100</td>\n",
       "      <td>147.0</td>\n",
       "      <td>[9.517006802721088, 255.7074829931973, 0]</td>\n",
       "      <td>0.545646</td>\n",
       "    </tr>\n",
       "    <tr>\n",
       "      <th>15</th>\n",
       "      <td>250_100</td>\n",
       "      <td>137.0</td>\n",
       "      <td>[96.35766423357664, 53.77372262773723, 0]</td>\n",
       "      <td>0.532735</td>\n",
       "    </tr>\n",
       "  </tbody>\n",
       "</table>\n",
       "<p>917 rows × 4 columns</p>\n",
       "</div>"
      ],
      "text/plain": [
       "     img_id  area_vox                                      ctr_pts   p_score\n",
       "0   250_001     158.0   [27.917721518987342, 98.25949367088607, 0]  0.999047\n",
       "1   250_001     131.0    [271.7022900763359, 129.4351145038168, 0]  0.998346\n",
       "2   250_001     181.0  [161.74585635359117, 130.27624309392266, 0]  0.997797\n",
       "3   250_001     109.0   [28.844036697247706, 80.19266055045871, 0]  0.994334\n",
       "4   250_001     145.0   [288.9448275862069, 120.99310344827586, 0]  0.989053\n",
       "..      ...       ...                                          ...       ...\n",
       "11  250_100      94.0                [62.5, 270.70212765957444, 0]  0.749756\n",
       "12  250_100      81.0   [203.3827160493827, 111.95061728395062, 0]  0.712849\n",
       "13  250_100      97.0    [187.0721649484536, 46.69072164948454, 0]  0.702013\n",
       "14  250_100     147.0    [9.517006802721088, 255.7074829931973, 0]  0.545646\n",
       "15  250_100     137.0    [96.35766423357664, 53.77372262773723, 0]  0.532735\n",
       "\n",
       "[917 rows x 4 columns]"
      ]
     },
     "execution_count": 59,
     "metadata": {},
     "output_type": "execute_result"
    }
   ],
   "source": [
    "ves_nglui"
   ]
  },
  {
   "cell_type": "code",
   "execution_count": 60,
   "id": "linear-bouquet",
   "metadata": {},
   "outputs": [],
   "source": [
    "ves_nglui.to_csv(ves_path)"
   ]
  },
  {
   "cell_type": "code",
   "execution_count": 57,
   "id": "appointed-delta",
   "metadata": {},
   "outputs": [
    {
     "data": {
      "text/plain": [
       "'20210223-0025'"
      ]
     },
     "execution_count": 57,
     "metadata": {},
     "output_type": "execute_result"
    }
   ],
   "source": [
    "# DateTime.Now.ToFileTime()\n",
    "datetime.datetime.now().strftime(\"%Y%m%d-%H%M\")"
   ]
  },
  {
   "cell_type": "code",
   "execution_count": 1,
   "id": "relevant-somerset",
   "metadata": {},
   "outputs": [
    {
     "ename": "NameError",
     "evalue": "name 'pd' is not defined",
     "output_type": "error",
     "traceback": [
      "\u001b[0;31m---------------------------------------------------------------------------\u001b[0m",
      "\u001b[0;31mNameError\u001b[0m                                 Traceback (most recent call last)",
      "\u001b[0;32m<ipython-input-1-c61b5f1974c9>\u001b[0m in \u001b[0;36m<module>\u001b[0;34m\u001b[0m\n\u001b[1;32m      1\u001b[0m \u001b[0msyn_path\u001b[0m \u001b[0;34m=\u001b[0m \u001b[0;34m'/allen/programs/braintv/workgroups/neuralcoding/Parastoo/pni_synapses_v185.csv'\u001b[0m\u001b[0;34m\u001b[0m\u001b[0;34m\u001b[0m\u001b[0m\n\u001b[0;32m----> 2\u001b[0;31m \u001b[0msynapse\u001b[0m \u001b[0;34m=\u001b[0m \u001b[0mpd\u001b[0m\u001b[0;34m.\u001b[0m\u001b[0mread_csv\u001b[0m\u001b[0;34m(\u001b[0m\u001b[0msyn_path\u001b[0m\u001b[0;34m)\u001b[0m\u001b[0;34m\u001b[0m\u001b[0;34m\u001b[0m\u001b[0m\n\u001b[0m\u001b[1;32m      3\u001b[0m \u001b[0msynapse\u001b[0m\u001b[0;34m.\u001b[0m\u001b[0mhead\u001b[0m\u001b[0;34m(\u001b[0m\u001b[0;34m)\u001b[0m\u001b[0;34m\u001b[0m\u001b[0;34m\u001b[0m\u001b[0m\n",
      "\u001b[0;31mNameError\u001b[0m: name 'pd' is not defined"
     ]
    }
   ],
   "source": [
    "su"
   ]
  },
  {
   "cell_type": "code",
   "execution_count": null,
   "id": "included-alexander",
   "metadata": {},
   "outputs": [],
   "source": []
  }
 ],
 "metadata": {
  "kernelspec": {
   "display_name": "Python 3",
   "language": "python",
   "name": "python3"
  },
  "language_info": {
   "codemirror_mode": {
    "name": "ipython",
    "version": 3
   },
   "file_extension": ".py",
   "mimetype": "text/x-python",
   "name": "python",
   "nbconvert_exporter": "python",
   "pygments_lexer": "ipython3",
   "version": "3.6.12"
  }
 },
 "nbformat": 4,
 "nbformat_minor": 5
}
