{
 "cells": [
  {
   "cell_type": "code",
   "execution_count": 11,
   "id": "distant-murray",
   "metadata": {},
   "outputs": [
    {
     "data": {
      "text/plain": [
       "'/allen/programs/braintv/workgroups/neuralcoding/Parastoo/Mask_RCNN/samples/vesicles'"
      ]
     },
     "execution_count": 11,
     "metadata": {},
     "output_type": "execute_result"
    }
   ],
   "source": [
    "pwd"
   ]
  },
  {
   "cell_type": "code",
   "execution_count": 74,
   "id": "electronic-edinburgh",
   "metadata": {},
   "outputs": [],
   "source": [
    "import os\n",
    "import json\n",
    "import numpy as np\n",
    "import itertools"
   ]
  },
  {
   "cell_type": "code",
   "execution_count": 18,
   "id": "viral-despite",
   "metadata": {},
   "outputs": [],
   "source": [
    "### Get the path to all root ids files\n",
    "\n",
    "base_path = '/allen/programs/braintv/workgroups/neuralcoding/Parastoo'\n",
    "dataset_name = 'PilotData'\n",
    "# dataset_name = 'TestPilot'\n",
    "filename = 'root_ids.json'\n",
    "\n",
    "def dataset_path(base_path = base_path, dataset_name=dataset_name):\n",
    "    dataset_path = os.path.join(base_path, dataset_name)\n",
    "    return dataset_path\n",
    "\n",
    "\n",
    "dataset_path = dataset_path()\n",
    "\n",
    "def add_filename(item, filename=filename, dataset_path=dataset_path):\n",
    "\n",
    "    item = '{}/{}/image_info/{}'.format(dataset_path, item, filename)\n",
    "    \n",
    "    return item\n",
    "\n",
    "roots_paths = list(map(add_filename, os.listdir(dataset_path)))\n",
    "# roots_paths.pop(4)\n",
    "\n",
    "def add_roots(roots_path):\n",
    "    with open(roots_path) as json_file:\n",
    "        data = json.load(json_file)\n",
    "    roots = list(data.values())[0]\n",
    "    return roots"
   ]
  },
  {
   "cell_type": "code",
   "execution_count": 32,
   "id": "behind-plate",
   "metadata": {},
   "outputs": [],
   "source": [
    "roots = list(map(add_roots, roots_paths))"
   ]
  },
  {
   "cell_type": "code",
   "execution_count": 39,
   "id": "referenced-psychiatry",
   "metadata": {},
   "outputs": [],
   "source": [
    "### Flatten the list to a regular 2d list\n",
    "reg_roots = list(itertools.chain(*roots))"
   ]
  },
  {
   "cell_type": "code",
   "execution_count": 69,
   "id": "excessive-parcel",
   "metadata": {},
   "outputs": [],
   "source": [
    "### Make a dict that has root_ids as its keys and number of the time they were repeated as values\n",
    "np.unique(reg_roots, return_counts=True)\n",
    "np_uniq_counts = np.unique(reg_roots, return_counts=True)\n",
    "roots_counts = dict(zip(map(str, np_uniq_counts[0]), map(int, np_uniq_counts[1])))"
   ]
  },
  {
   "cell_type": "code",
   "execution_count": 70,
   "id": "gentle-shaft",
   "metadata": {},
   "outputs": [],
   "source": [
    "#### save the root_counts in the config file for the Pilot Data\n",
    "root_config_paths = '/allen/programs/braintv/workgroups/neuralcoding/Parastoo/Pilot_Logs/roots_counts.json'\n",
    "with open(root_config_paths, 'w') as json_file:\n",
    "        json.dump(roots_counts, json_file)"
   ]
  },
  {
   "cell_type": "code",
   "execution_count": 75,
   "id": "incorrect-norman",
   "metadata": {},
   "outputs": [
    {
     "data": {
      "text/plain": [
       "1924"
      ]
     },
     "execution_count": 75,
     "metadata": {},
     "output_type": "execute_result"
    }
   ],
   "source": [
    "#### Reading the josn file from the config json file\n",
    "\n",
    "with open(root_config_paths) as json_file:\n",
    "    roots_counts = json.load(json_file)\n",
    "    \n",
    "len(roots_counts)\n",
    "    "
   ]
  },
  {
   "cell_type": "code",
   "execution_count": null,
   "id": "preliminary-stephen",
   "metadata": {},
   "outputs": [],
   "source": []
  }
 ],
 "metadata": {
  "kernelspec": {
   "display_name": "Python 3",
   "language": "python",
   "name": "python3"
  },
  "language_info": {
   "codemirror_mode": {
    "name": "ipython",
    "version": 3
   },
   "file_extension": ".py",
   "mimetype": "text/x-python",
   "name": "python",
   "nbconvert_exporter": "python",
   "pygments_lexer": "ipython3",
   "version": "3.6.12"
  }
 },
 "nbformat": 4,
 "nbformat_minor": 5
}
